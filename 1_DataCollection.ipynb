{
 "cells": [
  {
   "cell_type": "code",
   "execution_count": 1,
   "metadata": {},
   "outputs": [],
   "source": [
    "import json\n",
    "import numpy as np\n",
    "import os\n",
    "import pandas as pd\n",
    "import urllib3\n",
    "import urllib.request"
   ]
  },
  {
   "cell_type": "code",
   "execution_count": 51,
   "metadata": {},
   "outputs": [
    {
     "name": "stdout",
     "output_type": "stream",
     "text": [
      "(8929, 8)\n",
      "Returned length of 1 coins: (8929, 9)\n"
     ]
    }
   ],
   "source": [
    "#coins = ['BTC', 'LTC', 'ETH', 'XRP']\n",
    "coins = ['BTC']\n",
    "df_list=[]\n",
    "\n",
    "container = []\n",
    "\n",
    "for coin in coins:\n",
    "    url = 'https://poloniex.com/public?command=returnChartData&currencyPair=USDT_'+coin+'&start=1615958071&end=1618636471&period=300'\n",
    "    openUrl = urllib.request.urlopen(url)\n",
    "    r = openUrl.read()\n",
    "    openUrl.close()\n",
    "    d = json.loads(r.decode())\n",
    "    dfx = pd.DataFrame(d)\n",
    "    dfx['coin'] = coin\n",
    "    container.append(dfx)\n",
    "    print(pd.DataFrame(d).shape)\n",
    "    \n",
    "container = pd.concat(container, axis = 0)\n",
    "print('Returned length of {0} coins: {1}'.format(len(coins), container.shape))\n",
    "\n",
    "\n",
    "# format\n",
    "original_columns=[u'close', u'date', u'high', u'low', u'open']\n",
    "new_columns = ['Close','Timestamp','High','Low','Open']\n",
    "container = container.loc[:,original_columns]\n",
    "container.columns = new_columns\n",
    "container.to_csv('data/bitcoin2015to2017.csv',index=None)\n",
    "\n",
    "# export out\n",
    "h5path = 'data/4coins_17apr2021.h5'\n",
    "container.to_hdf(h5path, key='df', mode='w')\n",
    "#container.to_csv('data/4coins_17apr2021.csv',index=None)"
   ]
  },
  {
   "cell_type": "code",
   "execution_count": 52,
   "metadata": {},
   "outputs": [
    {
     "data": {
      "text/html": [
       "<div>\n",
       "<style scoped>\n",
       "    .dataframe tbody tr th:only-of-type {\n",
       "        vertical-align: middle;\n",
       "    }\n",
       "\n",
       "    .dataframe tbody tr th {\n",
       "        vertical-align: top;\n",
       "    }\n",
       "\n",
       "    .dataframe thead th {\n",
       "        text-align: right;\n",
       "    }\n",
       "</style>\n",
       "<table border=\"1\" class=\"dataframe\">\n",
       "  <thead>\n",
       "    <tr style=\"text-align: right;\">\n",
       "      <th></th>\n",
       "      <th>Close</th>\n",
       "      <th>Timestamp</th>\n",
       "      <th>High</th>\n",
       "      <th>Low</th>\n",
       "      <th>Open</th>\n",
       "    </tr>\n",
       "  </thead>\n",
       "  <tbody>\n",
       "    <tr>\n",
       "      <th>0</th>\n",
       "      <td>55336.296852</td>\n",
       "      <td>1615958071</td>\n",
       "      <td>55336.296852</td>\n",
       "      <td>55336.296852</td>\n",
       "      <td>55336.296852</td>\n",
       "    </tr>\n",
       "    <tr>\n",
       "      <th>1</th>\n",
       "      <td>55429.296157</td>\n",
       "      <td>1615958100</td>\n",
       "      <td>55523.348677</td>\n",
       "      <td>55336.296862</td>\n",
       "      <td>55336.296862</td>\n",
       "    </tr>\n",
       "    <tr>\n",
       "      <th>2</th>\n",
       "      <td>55516.176156</td>\n",
       "      <td>1615958400</td>\n",
       "      <td>55516.176156</td>\n",
       "      <td>55369.797966</td>\n",
       "      <td>55416.000724</td>\n",
       "    </tr>\n",
       "    <tr>\n",
       "      <th>3</th>\n",
       "      <td>55621.810276</td>\n",
       "      <td>1615958700</td>\n",
       "      <td>55621.810276</td>\n",
       "      <td>55495.146099</td>\n",
       "      <td>55532.556327</td>\n",
       "    </tr>\n",
       "    <tr>\n",
       "      <th>4</th>\n",
       "      <td>55533.539605</td>\n",
       "      <td>1615959000</td>\n",
       "      <td>55655.058004</td>\n",
       "      <td>55532.898513</td>\n",
       "      <td>55606.067775</td>\n",
       "    </tr>\n",
       "  </tbody>\n",
       "</table>\n",
       "</div>"
      ],
      "text/plain": [
       "          Close   Timestamp          High           Low          Open\n",
       "0  55336.296852  1615958071  55336.296852  55336.296852  55336.296852\n",
       "1  55429.296157  1615958100  55523.348677  55336.296862  55336.296862\n",
       "2  55516.176156  1615958400  55516.176156  55369.797966  55416.000724\n",
       "3  55621.810276  1615958700  55621.810276  55495.146099  55532.556327\n",
       "4  55533.539605  1615959000  55655.058004  55532.898513  55606.067775"
      ]
     },
     "execution_count": 52,
     "metadata": {},
     "output_type": "execute_result"
    }
   ],
   "source": [
    "# validate returns\n",
    "container.head()"
   ]
  },
  {
   "cell_type": "code",
   "execution_count": null,
   "metadata": {},
   "outputs": [],
   "source": []
  }
 ],
 "metadata": {
  "kernelspec": {
   "display_name": "Python 3",
   "language": "python",
   "name": "python3"
  },
  "language_info": {
   "codemirror_mode": {
    "name": "ipython",
    "version": 3
   },
   "file_extension": ".py",
   "mimetype": "text/x-python",
   "name": "python",
   "nbconvert_exporter": "python",
   "pygments_lexer": "ipython3",
   "version": "3.7.3"
  }
 },
 "nbformat": 4,
 "nbformat_minor": 2
}
