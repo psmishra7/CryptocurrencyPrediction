{
 "cells": [
  {
   "cell_type": "code",
   "execution_count": 1,
   "metadata": {},
   "outputs": [],
   "source": [
    "import json\n",
    "import numpy as np\n",
    "import os\n",
    "import pandas as pd\n",
    "import urllib3\n",
    "import urllib.request\n",
    "from keras.models import Sequential\n",
    "from keras.layers import Dense, Dropout, Activation, Flatten\n",
    "from keras.layers import Conv1D, MaxPooling1D, LeakyReLU, PReLU\n",
    "from keras.utils import np_utils\n",
    "from keras.callbacks import CSVLogger, ModelCheckpoint\n",
    "import h5py\n",
    "import tensorflow as tf\n",
    "#from tensorflow.keras.backend import set_session\n",
    "#from keras.backend.tensorflow_backend import *"
   ]
  },
  {
   "cell_type": "code",
   "execution_count": 2,
   "metadata": {},
   "outputs": [],
   "source": [
    "#coins = ['BTC', 'LTC', 'ETH', 'XRP']\n",
    "coins = ['XRP']"
   ]
  },
  {
   "cell_type": "code",
   "execution_count": 3,
   "metadata": {},
   "outputs": [],
   "source": [
    "# ratio of train to test split (originally at 0.8)\n",
    "train_ratio = 0.9"
   ]
  },
  {
   "cell_type": "code",
   "execution_count": 6,
   "metadata": {},
   "outputs": [],
   "source": [
    "from datetime import datetime, timedelta\n",
    "from time import mktime\n",
    "\n",
    "delta_days = 90\n",
    "\n",
    "t = datetime.now()\n",
    "end_tm = np.int(mktime(t.timetuple()))\n",
    "tpast = t - timedelta(days=delta_days)\n",
    "start_tm = np.int(mktime(tpast.timetuple()))\n",
    "#start_tm = mktime((t - timedelta(days=delta_days)).tuple())\n",
    "period_step = 300"
   ]
  },
  {
   "cell_type": "code",
   "execution_count": 7,
   "metadata": {},
   "outputs": [
    {
     "name": "stdout",
     "output_type": "stream",
     "text": [
      "(25921, 8)\n",
      "Returned length of 1 coins: (25921, 9)\n"
     ]
    }
   ],
   "source": [
    "df_list=[]\n",
    "\n",
    "container = []\n",
    "\n",
    "for coin in coins:\n",
    "    url = 'https://poloniex.com/public?command=returnChartData&currencyPair=USDT_'+coin+'&start={0}&end={1}&period={2}'.format(start_tm, end_tm, period_step)\n",
    "    openUrl = urllib.request.urlopen(url)\n",
    "    r = openUrl.read()\n",
    "    openUrl.close()\n",
    "    d = json.loads(r.decode())\n",
    "    dfx = pd.DataFrame(d)\n",
    "    dfx['coin'] = coin\n",
    "    container.append(dfx)\n",
    "    print(pd.DataFrame(d).shape)\n",
    "    \n",
    "container = pd.concat(container, axis = 0)\n",
    "print('Returned length of {0} coins: {1}'.format(len(coins), container.shape))\n",
    "\n",
    "\n",
    "# format\n",
    "original_columns=[u'close', u'date', u'high', u'low', u'open']\n",
    "new_columns = ['Close','Timestamp','High','Low','Open']\n",
    "container = container.loc[:,original_columns]\n",
    "container.columns = new_columns\n",
    "container.to_csv('data/bitcoin2015to2017.csv',index=None)\n",
    "\n",
    "# export out\n",
    "h5path = 'data/4coins_17apr2021.h5'\n",
    "container.to_hdf(h5path, key='df', mode='w')\n",
    "#container.to_csv('data/4coins_17apr2021.csv',index=None)"
   ]
  },
  {
   "cell_type": "code",
   "execution_count": 10,
   "metadata": {},
   "outputs": [],
   "source": [
    "\n",
    "import numpy as np\n",
    "import pandas as pd\n",
    " \n",
    "class PastSampler:\n",
    "    '''\n",
    "    Forms training samples for predicting future values from past value\n",
    "    '''\n",
    "     \n",
    "    def __init__(self, N, K, sliding_window = True):\n",
    "        '''\n",
    "        Predict K future sample using N previous samples\n",
    "        '''\n",
    "        self.K = K\n",
    "        self.N = N\n",
    "        self.sliding_window = sliding_window\n",
    " \n",
    "    def transform(self, A):\n",
    "        M = self.N + self.K     #Number of samples per row (sample + target)\n",
    "        #indexes\n",
    "        if self.sliding_window:\n",
    "            I = np.arange(M) + np.arange(A.shape[0] - M + 1).reshape(-1, 1)\n",
    "        else:\n",
    "            if A.shape[0]%M == 0:\n",
    "                I = np.arange(M)+np.arange(0,A.shape[0],M).reshape(-1,1)\n",
    "                \n",
    "            else:\n",
    "                I = np.arange(M)+np.arange(0,A.shape[0] -M,M).reshape(-1,1)\n",
    "            \n",
    "        B = A[I].reshape(-1, M * A.shape[1], A.shape[2])\n",
    "        ci = self.N * A.shape[1]    #Number of features per sample\n",
    "        return B[:, :ci], B[:, ci:] #Sample matrix, Target matrix\n",
    "\n",
    "#data file path\n",
    "dfp = 'data/bitcoin2015to2017.csv'\n",
    "\n",
    "#Columns of price data to use\n",
    "columns = ['Close']\n",
    "df = pd.read_csv(dfp)\n",
    "time_stamps = df['Timestamp']\n",
    "df = df.loc[:,columns]\n",
    "original_df = pd.read_csv(dfp).loc[:,columns]"
   ]
  },
  {
   "cell_type": "code",
   "execution_count": 112,
   "metadata": {},
   "outputs": [],
   "source": [
    "file_name='bitcoin2015to2017_close.h5'\n",
    "\n",
    "from sklearn.preprocessing import MinMaxScaler\n",
    "scaler = MinMaxScaler()\n",
    "# normalization\n",
    "for c in columns:\n",
    "    df[c] = scaler.fit_transform(df[c].values.reshape(-1,1))\n",
    "    \n",
    "#Features are input sample dimensions(channels)\n",
    "A = np.array(df)[:,None,:]\n",
    "original_A = np.array(original_df)[:,None,:]\n",
    "time_stamps = np.array(time_stamps)[:,None,None]\n",
    "\n",
    "#Make samples of temporal sequences of pricing data (channel)\n",
    "NPS, NFS = 256, 16        #Number of past and future samples  -original at 16\n",
    "ps = PastSampler(NPS, NFS, sliding_window=True)\n",
    "B, Y = ps.transform(A)\n",
    "input_times, output_times = ps.transform(time_stamps)\n",
    "original_B, original_Y = ps.transform(original_A)\n",
    "\n",
    "import h5py\n",
    "with h5py.File(file_name, 'w') as f:\n",
    "    f.create_dataset(\"inputs\", data = B)\n",
    "    f.create_dataset('outputs', data = Y)\n",
    "    f.create_dataset(\"input_times\", data = input_times)\n",
    "    f.create_dataset('output_times', data = output_times)\n",
    "    f.create_dataset(\"original_datas\", data=np.array(original_df))\n",
    "    f.create_dataset('original_inputs',data=original_B)\n",
    "    f.create_dataset('original_outputs',data=original_Y)"
   ]
  },
  {
   "cell_type": "code",
   "execution_count": 107,
   "metadata": {},
   "outputs": [
    {
     "data": {
      "text/plain": [
       "array([[1618720500]])"
      ]
     },
     "execution_count": 107,
     "metadata": {},
     "output_type": "execute_result"
    }
   ],
   "source": [
    "time_stamps[25920]"
   ]
  },
  {
   "cell_type": "code",
   "execution_count": 95,
   "metadata": {},
   "outputs": [
    {
     "data": {
      "text/plain": [
       "256"
      ]
     },
     "execution_count": 95,
     "metadata": {},
     "output_type": "execute_result"
    }
   ],
   "source": [
    "len(input_times[0])"
   ]
  },
  {
   "cell_type": "code",
   "execution_count": 96,
   "metadata": {},
   "outputs": [
    {
     "data": {
      "text/plain": [
       "16"
      ]
     },
     "execution_count": 96,
     "metadata": {},
     "output_type": "execute_result"
    }
   ],
   "source": [
    "len(output_times[0])"
   ]
  },
  {
   "cell_type": "code",
   "execution_count": 111,
   "metadata": {},
   "outputs": [
    {
     "data": {
      "text/plain": [
       "8.083333333333334"
      ]
     },
     "execution_count": 111,
     "metadata": {},
     "output_type": "execute_result"
    }
   ],
   "source": [
    "(1618720500 - 1618691400)/60/60"
   ]
  },
  {
   "cell_type": "code",
   "execution_count": 100,
   "metadata": {},
   "outputs": [
    {
     "data": {
      "text/plain": [
       "array([1618691400])"
      ]
     },
     "execution_count": 100,
     "metadata": {},
     "output_type": "execute_result"
    }
   ],
   "source": [
    "input_times[94][255]"
   ]
  },
  {
   "cell_type": "code",
   "execution_count": 104,
   "metadata": {},
   "outputs": [
    {
     "data": {
      "text/plain": [
       "80.0"
      ]
     },
     "execution_count": 104,
     "metadata": {},
     "output_type": "execute_result"
    }
   ],
   "source": [
    "(1618696200 - 1618691400)/60"
   ]
  },
  {
   "cell_type": "code",
   "execution_count": 101,
   "metadata": {},
   "outputs": [
    {
     "data": {
      "text/plain": [
       "array([1618696200])"
      ]
     },
     "execution_count": 101,
     "metadata": {},
     "output_type": "execute_result"
    }
   ],
   "source": [
    "output_times[94][15]"
   ]
  },
  {
   "cell_type": "code",
   "execution_count": 92,
   "metadata": {},
   "outputs": [
    {
     "data": {
      "text/plain": [
       "25921"
      ]
     },
     "execution_count": 92,
     "metadata": {},
     "output_type": "execute_result"
    }
   ],
   "source": [
    "len(time_stamps)"
   ]
  },
  {
   "cell_type": "code",
   "execution_count": 114,
   "metadata": {
    "scrolled": true
   },
   "outputs": [
    {
     "name": "stderr",
     "output_type": "stream",
     "text": [
      "/Users/piyushsagarmishra/anaconda3/lib/python3.7/site-packages/ipykernel_launcher.py:12: H5pyDeprecationWarning: dataset.value has been deprecated. Use dataset[()] instead.\n",
      "  if sys.path[0] == '':\n",
      "/Users/piyushsagarmishra/anaconda3/lib/python3.7/site-packages/ipykernel_launcher.py:13: H5pyDeprecationWarning: dataset.value has been deprecated. Use dataset[()] instead.\n",
      "  del sys.path[0]\n"
     ]
    },
    {
     "name": "stdout",
     "output_type": "stream",
     "text": [
      "Epoch 1/100\n",
      "2886/2886 [==============================] - 4s 1ms/step - loss: 0.0024 - val_loss: 0.0061\n",
      "\n",
      "Epoch 00001: saving model to weights/bitcoin2015to2017_close_CNN_2_relu-01-0.00613.hdf5\n",
      "Epoch 2/100\n",
      "2886/2886 [==============================] - 4s 1ms/step - loss: 8.7812e-04 - val_loss: 0.0054\n",
      "\n",
      "Epoch 00002: saving model to weights/bitcoin2015to2017_close_CNN_2_relu-02-0.00537.hdf5\n",
      "Epoch 3/100\n",
      "2886/2886 [==============================] - 4s 1ms/step - loss: 8.6206e-04 - val_loss: 0.0044\n",
      "\n",
      "Epoch 00003: saving model to weights/bitcoin2015to2017_close_CNN_2_relu-03-0.00439.hdf5\n",
      "Epoch 4/100\n",
      "2886/2886 [==============================] - 4s 1ms/step - loss: 8.7445e-04 - val_loss: 0.0057\n",
      "\n",
      "Epoch 00004: saving model to weights/bitcoin2015to2017_close_CNN_2_relu-04-0.00575.hdf5\n",
      "Epoch 5/100\n",
      "2886/2886 [==============================] - 4s 1ms/step - loss: 8.4297e-04 - val_loss: 0.0045\n",
      "\n",
      "Epoch 00005: saving model to weights/bitcoin2015to2017_close_CNN_2_relu-05-0.00449.hdf5\n",
      "Epoch 6/100\n",
      "2886/2886 [==============================] - 4s 1ms/step - loss: 8.7203e-04 - val_loss: 0.0051\n",
      "\n",
      "Epoch 00006: saving model to weights/bitcoin2015to2017_close_CNN_2_relu-06-0.00515.hdf5\n",
      "Epoch 7/100\n",
      "2886/2886 [==============================] - 4s 1ms/step - loss: 8.5796e-04 - val_loss: 0.0048\n",
      "\n",
      "Epoch 00007: saving model to weights/bitcoin2015to2017_close_CNN_2_relu-07-0.00483.hdf5\n",
      "Epoch 8/100\n",
      "2886/2886 [==============================] - 4s 1ms/step - loss: 8.7798e-04 - val_loss: 0.01539e-0\n",
      "\n",
      "Epoch 00008: saving model to weights/bitcoin2015to2017_close_CNN_2_relu-08-0.01529.hdf5\n",
      "Epoch 9/100\n",
      "2886/2886 [==============================] - 4s 1ms/step - loss: 8.4789e-04 - val_loss: 0.0060\n",
      "\n",
      "Epoch 00009: saving model to weights/bitcoin2015to2017_close_CNN_2_relu-09-0.00602.hdf5\n",
      "Epoch 10/100\n",
      "2886/2886 [==============================] - 4s 1ms/step - loss: 8.3274e-04 - val_loss: 0.0047\n",
      "\n",
      "Epoch 00010: saving model to weights/bitcoin2015to2017_close_CNN_2_relu-10-0.00474.hdf5\n",
      "Epoch 11/100\n",
      "2886/2886 [==============================] - 4s 1ms/step - loss: 8.6737e-04 - val_loss: 0.0048\n",
      "\n",
      "Epoch 00011: saving model to weights/bitcoin2015to2017_close_CNN_2_relu-11-0.00477.hdf5\n",
      "Epoch 12/100\n",
      "2886/2886 [==============================] - 4s 1ms/step - loss: 8.6250e-04 - val_loss: 0.0045\n",
      "\n",
      "Epoch 00012: saving model to weights/bitcoin2015to2017_close_CNN_2_relu-12-0.00449.hdf5\n",
      "Epoch 13/100\n",
      "2886/2886 [==============================] - 4s 1ms/step - loss: 8.5254e-04 - val_loss: 0.0045\n",
      "\n",
      "Epoch 00013: saving model to weights/bitcoin2015to2017_close_CNN_2_relu-13-0.00449.hdf5\n",
      "Epoch 14/100\n",
      "2886/2886 [==============================] - 4s 1ms/step - loss: 8.4735e-04 - val_loss: 0.0040\n",
      "\n",
      "Epoch 00014: saving model to weights/bitcoin2015to2017_close_CNN_2_relu-14-0.00401.hdf5\n",
      "Epoch 15/100\n",
      "2886/2886 [==============================] - 4s 1ms/step - loss: 8.5244e-04 - val_loss: 0.0063\n",
      "\n",
      "Epoch 00015: saving model to weights/bitcoin2015to2017_close_CNN_2_relu-15-0.00625.hdf5\n",
      "Epoch 16/100\n",
      "2886/2886 [==============================] - 4s 1ms/step - loss: 8.7723e-04 - val_loss: 0.0047\n",
      "\n",
      "Epoch 00016: saving model to weights/bitcoin2015to2017_close_CNN_2_relu-16-0.00472.hdf5\n",
      "Epoch 17/100\n",
      "2886/2886 [==============================] - 4s 1ms/step - loss: 8.6123e-04 - val_loss: 0.0041\n",
      "\n",
      "Epoch 00017: saving model to weights/bitcoin2015to2017_close_CNN_2_relu-17-0.00414.hdf5\n",
      "Epoch 18/100\n",
      "2886/2886 [==============================] - 4s 1ms/step - loss: 8.6050e-04 - val_loss: 0.00402e-0\n",
      "\n",
      "Epoch 00018: saving model to weights/bitcoin2015to2017_close_CNN_2_relu-18-0.00400.hdf5\n",
      "Epoch 19/100\n",
      "2886/2886 [==============================] - 4s 1ms/step - loss: 8.9156e-04 - val_loss: 0.0043\n",
      "\n",
      "Epoch 00019: saving model to weights/bitcoin2015to2017_close_CNN_2_relu-19-0.00426.hdf5\n",
      "Epoch 20/100\n",
      "2886/2886 [==============================] - 4s 1ms/step - loss: 8.5981e-04 - val_loss: 0.0067A: 0s - loss: 8.5993e-\n",
      "\n",
      "Epoch 00020: saving model to weights/bitcoin2015to2017_close_CNN_2_relu-20-0.00668.hdf5\n",
      "Epoch 21/100\n",
      "2886/2886 [==============================] - 4s 1ms/step - loss: 8.5041e-04 - val_loss: 0.0048\n",
      "\n",
      "Epoch 00021: saving model to weights/bitcoin2015to2017_close_CNN_2_relu-21-0.00480.hdf5\n",
      "Epoch 22/100\n",
      "2886/2886 [==============================] - 4s 2ms/step - loss: 8.5234e-04 - val_loss: 0.0046\n",
      "\n",
      "Epoch 00022: saving model to weights/bitcoin2015to2017_close_CNN_2_relu-22-0.00462.hdf5\n",
      "Epoch 23/100\n",
      "2886/2886 [==============================] - 4s 2ms/step - loss: 8.6404e-04 - val_loss: 0.0043\n",
      "\n",
      "Epoch 00023: saving model to weights/bitcoin2015to2017_close_CNN_2_relu-23-0.00427.hdf5\n",
      "Epoch 24/100\n",
      "2886/2886 [==============================] - 5s 2ms/step - loss: 8.5583e-04 - val_loss: 0.0063\n",
      "\n",
      "Epoch 00024: saving model to weights/bitcoin2015to2017_close_CNN_2_relu-24-0.00632.hdf5\n",
      "Epoch 25/100\n",
      "2886/2886 [==============================] - 4s 1ms/step - loss: 8.4802e-04 - val_loss: 0.0041\n",
      "\n",
      "Epoch 00025: saving model to weights/bitcoin2015to2017_close_CNN_2_relu-25-0.00410.hdf5\n",
      "Epoch 26/100\n",
      "2886/2886 [==============================] - 4s 1ms/step - loss: 8.4331e-04 - val_loss: 0.00405\n",
      "\n",
      "Epoch 00026: saving model to weights/bitcoin2015to2017_close_CNN_2_relu-26-0.00399.hdf5\n",
      "Epoch 27/100\n",
      "2886/2886 [==============================] - 4s 1ms/step - loss: 8.7697e-04 - val_loss: 0.0039\n",
      "\n",
      "Epoch 00027: saving model to weights/bitcoin2015to2017_close_CNN_2_relu-27-0.00393.hdf5\n",
      "Epoch 28/100\n",
      "2886/2886 [==============================] - 4s 1ms/step - loss: 8.6381e-04 - val_loss: 0.0041\n",
      "\n",
      "Epoch 00028: saving model to weights/bitcoin2015to2017_close_CNN_2_relu-28-0.00409.hdf5\n",
      "Epoch 29/100\n",
      "2886/2886 [==============================] - 4s 1ms/step - loss: 8.6318e-04 - val_loss: 0.0039\n",
      "\n",
      "Epoch 00029: saving model to weights/bitcoin2015to2017_close_CNN_2_relu-29-0.00394.hdf5\n",
      "Epoch 30/100\n",
      "2886/2886 [==============================] - 4s 1ms/step - loss: 8.5349e-04 - val_loss: 0.0041\n",
      "\n",
      "Epoch 00030: saving model to weights/bitcoin2015to2017_close_CNN_2_relu-30-0.00410.hdf5\n",
      "Epoch 31/100\n",
      "2886/2886 [==============================] - 4s 1ms/step - loss: 8.6215e-04 - val_loss: 0.0057\n",
      "\n",
      "Epoch 00031: saving model to weights/bitcoin2015to2017_close_CNN_2_relu-31-0.00566.hdf5\n",
      "Epoch 32/100\n",
      "2886/2886 [==============================] - 4s 1ms/step - loss: 8.6020e-04 - val_loss: 0.0085\n",
      "\n",
      "Epoch 00032: saving model to weights/bitcoin2015to2017_close_CNN_2_relu-32-0.00852.hdf5\n",
      "Epoch 33/100\n",
      "2886/2886 [==============================] - 4s 1ms/step - loss: 8.5992e-04 - val_loss: 0.0070\n",
      "\n",
      "Epoch 00033: saving model to weights/bitcoin2015to2017_close_CNN_2_relu-33-0.00697.hdf5\n",
      "Epoch 34/100\n",
      "2886/2886 [==============================] - 4s 1ms/step - loss: 8.6396e-04 - val_loss: 0.0107\n",
      "\n",
      "Epoch 00034: saving model to weights/bitcoin2015to2017_close_CNN_2_relu-34-0.01069.hdf5\n",
      "Epoch 35/100\n",
      "2886/2886 [==============================] - 4s 1ms/step - loss: 8.5047e-04 - val_loss: 0.0101\n",
      "\n",
      "Epoch 00035: saving model to weights/bitcoin2015to2017_close_CNN_2_relu-35-0.01008.hdf5\n",
      "Epoch 36/100\n",
      "2886/2886 [==============================] - 4s 1ms/step - loss: 8.5189e-04 - val_loss: 0.0068\n",
      "\n",
      "Epoch 00036: saving model to weights/bitcoin2015to2017_close_CNN_2_relu-36-0.00677.hdf5\n",
      "Epoch 37/100\n",
      "2886/2886 [==============================] - 4s 1ms/step - loss: 8.5748e-04 - val_loss: 0.0049\n",
      "\n",
      "Epoch 00037: saving model to weights/bitcoin2015to2017_close_CNN_2_relu-37-0.00487.hdf5\n",
      "Epoch 38/100\n",
      "2886/2886 [==============================] - 4s 1ms/step - loss: 8.7833e-04 - val_loss: 0.0046\n",
      "\n",
      "Epoch 00038: saving model to weights/bitcoin2015to2017_close_CNN_2_relu-38-0.00456.hdf5\n",
      "Epoch 39/100\n",
      "2886/2886 [==============================] - 4s 1ms/step - loss: 8.5037e-04 - val_loss: 0.0062\n",
      "\n",
      "Epoch 00039: saving model to weights/bitcoin2015to2017_close_CNN_2_relu-39-0.00617.hdf5\n",
      "Epoch 40/100\n",
      "2886/2886 [==============================] - 4s 1ms/step - loss: 8.3993e-04 - val_loss: 0.0042\n",
      "\n",
      "Epoch 00040: saving model to weights/bitcoin2015to2017_close_CNN_2_relu-40-0.00421.hdf5\n",
      "Epoch 41/100\n",
      "2886/2886 [==============================] - 4s 1ms/step - loss: 8.6402e-04 - val_loss: 0.0038\n",
      "\n",
      "Epoch 00041: saving model to weights/bitcoin2015to2017_close_CNN_2_relu-41-0.00385.hdf5\n",
      "Epoch 42/100\n",
      "2886/2886 [==============================] - 4s 1ms/step - loss: 8.5216e-04 - val_loss: 0.0039\n"
     ]
    },
    {
     "name": "stdout",
     "output_type": "stream",
     "text": [
      "\n",
      "Epoch 00042: saving model to weights/bitcoin2015to2017_close_CNN_2_relu-42-0.00390.hdf5\n",
      "Epoch 43/100\n",
      "2886/2886 [==============================] - 4s 1ms/step - loss: 8.5409e-04 - val_loss: 0.0055\n",
      "\n",
      "Epoch 00043: saving model to weights/bitcoin2015to2017_close_CNN_2_relu-43-0.00552.hdf5\n",
      "Epoch 44/100\n",
      "2886/2886 [==============================] - 4s 1ms/step - loss: 8.6264e-04 - val_loss: 0.0075\n",
      "\n",
      "Epoch 00044: saving model to weights/bitcoin2015to2017_close_CNN_2_relu-44-0.00749.hdf5\n",
      "Epoch 45/100\n",
      "2886/2886 [==============================] - 4s 1ms/step - loss: 8.4302e-04 - val_loss: 0.00419e-0 - ETA: 2s - loss: 8.2898e - ETA: 2s -  - ETA: 1s - loss:  - ETA: 0s - \n",
      "\n",
      "Epoch 00045: saving model to weights/bitcoin2015to2017_close_CNN_2_relu-45-0.00412.hdf5\n",
      "Epoch 46/100\n",
      "2886/2886 [==============================] - 4s 1ms/step - loss: 8.5932e-04 - val_loss: 0.00428e\n",
      "\n",
      "Epoch 00046: saving model to weights/bitcoin2015to2017_close_CNN_2_relu-46-0.00423.hdf5\n",
      "Epoch 47/100\n",
      "2886/2886 [==============================] - 4s 1ms/step - loss: 8.4782e-04 - val_loss: 0.00437e- - ETA: 0s - loss: 8.\n",
      "\n",
      "Epoch 00047: saving model to weights/bitcoin2015to2017_close_CNN_2_relu-47-0.00435.hdf5\n",
      "Epoch 48/100\n",
      "2886/2886 [==============================] - 4s 1ms/step - loss: 8.5517e-04 - val_loss: 0.0043\n",
      "\n",
      "Epoch 00048: saving model to weights/bitcoin2015to2017_close_CNN_2_relu-48-0.00428.hdf5\n",
      "Epoch 49/100\n",
      "2886/2886 [==============================] - 4s 1ms/step - loss: 8.5478e-04 - val_loss: 0.0050\n",
      "\n",
      "Epoch 00049: saving model to weights/bitcoin2015to2017_close_CNN_2_relu-49-0.00501.hdf5\n",
      "Epoch 50/100\n",
      "2886/2886 [==============================] - 4s 1ms/step - loss: 8.3535e-04 - val_loss: 0.0054TA: 0s \n",
      "\n",
      "Epoch 00050: saving model to weights/bitcoin2015to2017_close_CNN_2_relu-50-0.00540.hdf5\n",
      "Epoch 51/100\n",
      "2886/2886 [==============================] - 4s 1ms/step - loss: 8.4968e-04 - val_loss: 0.0039\n",
      "\n",
      "Epoch 00051: saving model to weights/bitcoin2015to2017_close_CNN_2_relu-51-0.00388.hdf5\n",
      "Epoch 52/100\n",
      "2886/2886 [==============================] - 4s 1ms/step - loss: 8.5627e-04 - val_loss: 0.0061\n",
      "\n",
      "Epoch 00052: saving model to weights/bitcoin2015to2017_close_CNN_2_relu-52-0.00611.hdf5\n",
      "Epoch 53/100\n",
      "2886/2886 [==============================] - 4s 1ms/step - loss: 8.9398e-04 - val_loss: 0.0052\n",
      "\n",
      "Epoch 00053: saving model to weights/bitcoin2015to2017_close_CNN_2_relu-53-0.00520.hdf5\n",
      "Epoch 54/100\n",
      "2886/2886 [==============================] - 4s 1ms/step - loss: 8.5682e-04 - val_loss: 0.0110\n",
      "\n",
      "Epoch 00054: saving model to weights/bitcoin2015to2017_close_CNN_2_relu-54-0.01097.hdf5\n",
      "Epoch 55/100\n",
      "2886/2886 [==============================] - 4s 1ms/step - loss: 8.6881e-04 - val_loss: 0.0091\n",
      "\n",
      "Epoch 00055: saving model to weights/bitcoin2015to2017_close_CNN_2_relu-55-0.00913.hdf5\n",
      "Epoch 56/100\n",
      "2886/2886 [==============================] - 4s 1ms/step - loss: 8.6485e-04 - val_loss: 0.0044\n",
      "\n",
      "Epoch 00056: saving model to weights/bitcoin2015to2017_close_CNN_2_relu-56-0.00441.hdf5\n",
      "Epoch 57/100\n",
      "2886/2886 [==============================] - 4s 1ms/step - loss: 8.4182e-04 - val_loss: 0.0059\n",
      "\n",
      "Epoch 00057: saving model to weights/bitcoin2015to2017_close_CNN_2_relu-57-0.00591.hdf5\n",
      "Epoch 58/100\n",
      "2886/2886 [==============================] - 4s 1ms/step - loss: 8.3436e-04 - val_loss: 0.0039\n",
      "\n",
      "Epoch 00058: saving model to weights/bitcoin2015to2017_close_CNN_2_relu-58-0.00389.hdf5\n",
      "Epoch 59/100\n",
      "2886/2886 [==============================] - 4s 1ms/step - loss: 8.4807e-04 - val_loss: 0.0041\n",
      "\n",
      "Epoch 00059: saving model to weights/bitcoin2015to2017_close_CNN_2_relu-59-0.00408.hdf5\n",
      "Epoch 60/100\n",
      "2886/2886 [==============================] - 4s 1ms/step - loss: 8.4901e-04 - val_loss: 0.0040\n",
      "\n",
      "Epoch 00060: saving model to weights/bitcoin2015to2017_close_CNN_2_relu-60-0.00405.hdf5\n",
      "Epoch 61/100\n",
      "2886/2886 [==============================] - 4s 1ms/step - loss: 8.2827e-04 - val_loss: 0.00615e-\n",
      "\n",
      "Epoch 00061: saving model to weights/bitcoin2015to2017_close_CNN_2_relu-61-0.00610.hdf5\n",
      "Epoch 62/100\n",
      "2886/2886 [==============================] - 4s 1ms/step - loss: 8.5344e-04 - val_loss: 0.00694e- - ETA:\n",
      "\n",
      "Epoch 00062: saving model to weights/bitcoin2015to2017_close_CNN_2_relu-62-0.00687.hdf5\n",
      "Epoch 63/100\n",
      "2886/2886 [==============================] - 4s 1ms/step - loss: 8.6334e-04 - val_loss: 0.0044 loss: 8.63\n",
      "\n",
      "Epoch 00063: saving model to weights/bitcoin2015to2017_close_CNN_2_relu-63-0.00443.hdf5\n",
      "Epoch 64/100\n",
      "2886/2886 [==============================] - 4s 1ms/step - loss: 8.5965e-04 - val_loss: 0.0052\n",
      "\n",
      "Epoch 00064: saving model to weights/bitcoin2015to2017_close_CNN_2_relu-64-0.00517.hdf5\n",
      "Epoch 65/100\n",
      "2886/2886 [==============================] - 4s 1ms/step - loss: 8.3567e-04 - val_loss: 0.0043\n",
      "\n",
      "Epoch 00065: saving model to weights/bitcoin2015to2017_close_CNN_2_relu-65-0.00433.hdf5\n",
      "Epoch 66/100\n",
      "2886/2886 [==============================] - 4s 1ms/step - loss: 8.3501e-04 - val_loss: 0.0038\n",
      "\n",
      "Epoch 00066: saving model to weights/bitcoin2015to2017_close_CNN_2_relu-66-0.00378.hdf5\n",
      "Epoch 67/100\n",
      "2886/2886 [==============================] - 4s 1ms/step - loss: 8.6213e-04 - val_loss: 0.0041\n",
      "\n",
      "Epoch 00067: saving model to weights/bitcoin2015to2017_close_CNN_2_relu-67-0.00408.hdf5\n",
      "Epoch 68/100\n",
      "2886/2886 [==============================] - 4s 1ms/step - loss: 8.4448e-04 - val_loss: 0.0042\n",
      "\n",
      "Epoch 00068: saving model to weights/bitcoin2015to2017_close_CNN_2_relu-68-0.00420.hdf5\n",
      "Epoch 69/100\n",
      "2886/2886 [==============================] - 4s 1ms/step - loss: 8.3956e-04 - val_loss: 0.0040\n",
      "\n",
      "Epoch 00069: saving model to weights/bitcoin2015to2017_close_CNN_2_relu-69-0.00396.hdf5\n",
      "Epoch 70/100\n",
      "2886/2886 [==============================] - 4s 1ms/step - loss: 8.3787e-04 - val_loss: 0.0039\n",
      "\n",
      "Epoch 00070: saving model to weights/bitcoin2015to2017_close_CNN_2_relu-70-0.00386.hdf5\n",
      "Epoch 71/100\n",
      "2886/2886 [==============================] - 4s 1ms/step - loss: 8.5359e-04 - val_loss: 0.0043\n",
      "\n",
      "Epoch 00071: saving model to weights/bitcoin2015to2017_close_CNN_2_relu-71-0.00426.hdf5\n",
      "Epoch 72/100\n",
      "2886/2886 [==============================] - 4s 1ms/step - loss: 8.2543e-04 - val_loss: 0.0085\n",
      "\n",
      "Epoch 00072: saving model to weights/bitcoin2015to2017_close_CNN_2_relu-72-0.00847.hdf5\n",
      "Epoch 73/100\n",
      "2886/2886 [==============================] - 4s 1ms/step - loss: 8.2287e-04 - val_loss: 0.0084\n",
      "\n",
      "Epoch 00073: saving model to weights/bitcoin2015to2017_close_CNN_2_relu-73-0.00840.hdf5\n",
      "Epoch 74/100\n",
      "2886/2886 [==============================] - 4s 1ms/step - loss: 8.3514e-04 - val_loss: 0.0069\n",
      "\n",
      "Epoch 00074: saving model to weights/bitcoin2015to2017_close_CNN_2_relu-74-0.00694.hdf5\n",
      "Epoch 75/100\n",
      "2886/2886 [==============================] - 4s 1ms/step - loss: 8.5606e-04 - val_loss: 0.0044\n",
      "\n",
      "Epoch 00075: saving model to weights/bitcoin2015to2017_close_CNN_2_relu-75-0.00435.hdf5\n",
      "Epoch 76/100\n",
      "2886/2886 [==============================] - 4s 1ms/step - loss: 8.8453e-04 - val_loss: 0.0046\n",
      "\n",
      "Epoch 00076: saving model to weights/bitcoin2015to2017_close_CNN_2_relu-76-0.00465.hdf5\n",
      "Epoch 77/100\n",
      "2886/2886 [==============================] - 4s 1ms/step - loss: 8.6250e-04 - val_loss: 0.0040\n",
      "\n",
      "Epoch 00077: saving model to weights/bitcoin2015to2017_close_CNN_2_relu-77-0.00399.hdf5\n",
      "Epoch 78/100\n",
      "2886/2886 [==============================] - 4s 1ms/step - loss: 8.6898e-04 - val_loss: 0.0057\n",
      "\n",
      "Epoch 00078: saving model to weights/bitcoin2015to2017_close_CNN_2_relu-78-0.00570.hdf5\n",
      "Epoch 79/100\n",
      "2886/2886 [==============================] - 4s 1ms/step - loss: 8.6755e-04 - val_loss: 0.0064\n",
      "\n",
      "Epoch 00079: saving model to weights/bitcoin2015to2017_close_CNN_2_relu-79-0.00637.hdf5\n",
      "Epoch 80/100\n",
      "2886/2886 [==============================] - 4s 1ms/step - loss: 8.7052e-04 - val_loss: 0.0045\n",
      "\n",
      "Epoch 00080: saving model to weights/bitcoin2015to2017_close_CNN_2_relu-80-0.00455.hdf5\n",
      "Epoch 81/100\n",
      "2886/2886 [==============================] - 4s 1ms/step - loss: 8.4509e-04 - val_loss: 0.0048\n",
      "\n",
      "Epoch 00081: saving model to weights/bitcoin2015to2017_close_CNN_2_relu-81-0.00479.hdf5\n",
      "Epoch 82/100\n",
      "2886/2886 [==============================] - 4s 2ms/step - loss: 8.3891e-04 - val_loss: 0.0095\n",
      "\n",
      "Epoch 00082: saving model to weights/bitcoin2015to2017_close_CNN_2_relu-82-0.00952.hdf5\n",
      "Epoch 83/100\n"
     ]
    },
    {
     "name": "stdout",
     "output_type": "stream",
     "text": [
      "2886/2886 [==============================] - 4s 1ms/step - loss: 8.4787e-04 - val_loss: 0.0039\n",
      "\n",
      "Epoch 00083: saving model to weights/bitcoin2015to2017_close_CNN_2_relu-83-0.00387.hdf5\n",
      "Epoch 84/100\n",
      "2886/2886 [==============================] - 4s 1ms/step - loss: 8.3561e-04 - val_loss: 0.0042\n",
      "\n",
      "Epoch 00084: saving model to weights/bitcoin2015to2017_close_CNN_2_relu-84-0.00417.hdf5\n",
      "Epoch 85/100\n",
      "2886/2886 [==============================] - 4s 1ms/step - loss: 8.7326e-04 - val_loss: 0.0038\n",
      "\n",
      "Epoch 00085: saving model to weights/bitcoin2015to2017_close_CNN_2_relu-85-0.00380.hdf5\n",
      "Epoch 86/100\n",
      "2886/2886 [==============================] - 4s 1ms/step - loss: 8.6896e-04 - val_loss: 0.0046\n",
      "\n",
      "Epoch 00086: saving model to weights/bitcoin2015to2017_close_CNN_2_relu-86-0.00457.hdf5\n",
      "Epoch 87/100\n",
      "2886/2886 [==============================] - 4s 1ms/step - loss: 8.3518e-04 - val_loss: 0.0053\n",
      "\n",
      "Epoch 00087: saving model to weights/bitcoin2015to2017_close_CNN_2_relu-87-0.00526.hdf5\n",
      "Epoch 88/100\n",
      "2886/2886 [==============================] - 4s 1ms/step - loss: 8.6216e-04 - val_loss: 0.0044\n",
      "\n",
      "Epoch 00088: saving model to weights/bitcoin2015to2017_close_CNN_2_relu-88-0.00440.hdf5\n",
      "Epoch 89/100\n",
      "2886/2886 [==============================] - 4s 1ms/step - loss: 8.6723e-04 - val_loss: 0.0038\n",
      "\n",
      "Epoch 00089: saving model to weights/bitcoin2015to2017_close_CNN_2_relu-89-0.00383.hdf5\n",
      "Epoch 90/100\n",
      "2886/2886 [==============================] - 4s 1ms/step - loss: 8.5030e-04 - val_loss: 0.0042\n",
      "\n",
      "Epoch 00090: saving model to weights/bitcoin2015to2017_close_CNN_2_relu-90-0.00422.hdf5\n",
      "Epoch 91/100\n",
      "2886/2886 [==============================] - 4s 1ms/step - loss: 8.4335e-04 - val_loss: 0.0057\n",
      "\n",
      "Epoch 00091: saving model to weights/bitcoin2015to2017_close_CNN_2_relu-91-0.00571.hdf5\n",
      "Epoch 92/100\n",
      "2886/2886 [==============================] - 4s 1ms/step - loss: 8.6670e-04 - val_loss: 0.0062\n",
      "\n",
      "Epoch 00092: saving model to weights/bitcoin2015to2017_close_CNN_2_relu-92-0.00616.hdf5\n",
      "Epoch 93/100\n",
      "2886/2886 [==============================] - 4s 1ms/step - loss: 8.5491e-04 - val_loss: 0.0039\n",
      "\n",
      "Epoch 00093: saving model to weights/bitcoin2015to2017_close_CNN_2_relu-93-0.00389.hdf5\n",
      "Epoch 94/100\n",
      "2886/2886 [==============================] - 4s 1ms/step - loss: 8.5742e-04 - val_loss: 0.0045\n",
      "\n",
      "Epoch 00094: saving model to weights/bitcoin2015to2017_close_CNN_2_relu-94-0.00448.hdf5\n",
      "Epoch 95/100\n",
      "2886/2886 [==============================] - 4s 1ms/step - loss: 8.7506e-04 - val_loss: 0.0059\n",
      "\n",
      "Epoch 00095: saving model to weights/bitcoin2015to2017_close_CNN_2_relu-95-0.00589.hdf5\n",
      "Epoch 96/100\n",
      "2886/2886 [==============================] - 4s 1ms/step - loss: 8.2028e-04 - val_loss: 0.0041\n",
      "\n",
      "Epoch 00096: saving model to weights/bitcoin2015to2017_close_CNN_2_relu-96-0.00405.hdf5\n",
      "Epoch 97/100\n",
      "2886/2886 [==============================] - 4s 1ms/step - loss: 8.2228e-04 - val_loss: 0.0056\n",
      "\n",
      "Epoch 00097: saving model to weights/bitcoin2015to2017_close_CNN_2_relu-97-0.00564.hdf5\n",
      "Epoch 98/100\n",
      "2886/2886 [==============================] - 4s 1ms/step - loss: 8.6109e-04 - val_loss: 0.0043\n",
      "\n",
      "Epoch 00098: saving model to weights/bitcoin2015to2017_close_CNN_2_relu-98-0.00428.hdf5\n",
      "Epoch 99/100\n",
      "2886/2886 [==============================] - 4s 1ms/step - loss: 8.4022e-04 - val_loss: 0.0050\n",
      "\n",
      "Epoch 00099: saving model to weights/bitcoin2015to2017_close_CNN_2_relu-99-0.00502.hdf5\n",
      "Epoch 100/100\n",
      "2886/2886 [==============================] - 4s 1ms/step - loss: 8.5310e-04 - val_loss: 0.0040\n",
      "\n",
      "Epoch 00100: saving model to weights/bitcoin2015to2017_close_CNN_2_relu-100-0.00403.hdf5\n",
      "weights/bitcoin2015to2017_close_CNN_2_relu-100-0.00403.hdf5\n"
     ]
    }
   ],
   "source": [
    "# Make the program use only one GPU\n",
    "os.environ['CUDA_DEVICE_ORDER'] = 'PCI_BUS_ID'\n",
    "os.environ['CUDA_VISIBLE_DEVICES'] = '1'\n",
    "os.environ['TF_CPP_MIN_LOG_LEVEL']='2'\n",
    "\n",
    "#config = tf.ConfigProto()\n",
    "#config.gpu_options.allow_growth = True\n",
    "#set_session(tf.Session(config=config))\n",
    "\n",
    "\n",
    "with h5py.File(''.join(['bitcoin2015to2017_close.h5']), 'r') as hf:\n",
    "    datas = hf['inputs'].value\n",
    "    labels = hf['outputs'].value\n",
    "\n",
    "\n",
    "output_file_name='bitcoin2015to2017_close_CNN_2_relu'\n",
    "\n",
    "step_size = datas.shape[1]\n",
    "batch_size= 8\n",
    "nb_features = datas.shape[2]\n",
    "\n",
    "epochs = 100\n",
    "\n",
    "#split training validation\n",
    "training_size = int(train_ratio* datas.shape[0])\n",
    "training_datas = datas[:training_size,:]\n",
    "training_labels = labels[:training_size,:]\n",
    "validation_datas = datas[training_size:,:]\n",
    "validation_labels = labels[training_size:,:]\n",
    "#build model\n",
    "\n",
    "# 2 layers\n",
    "model = Sequential()\n",
    "\n",
    "\n",
    "model.add(Conv1D(activation='relu', input_shape=(step_size, nb_features), strides=3, filters=8, kernel_size=20))\n",
    "model.add(Dropout(0.5))\n",
    "model.add(Conv1D( strides=4, filters=nb_features, kernel_size=16))\n",
    "\n",
    "'''\n",
    "# 3 Layers\n",
    "model.add(Conv1D(activation='relu', input_shape=(step_size, nb_features), strides=3, filters=8, kernel_size=8))\n",
    "#model.add(LeakyReLU())\n",
    "model.add(Dropout(0.5))\n",
    "model.add(Conv1D(activation='relu', strides=2, filters=8, kernel_size=8))\n",
    "#model.add(LeakyReLU())\n",
    "model.add(Dropout(0.5))\n",
    "model.add(Conv1D( strides=2, filters=nb_features, kernel_size=8))\n",
    "# 4 layers\n",
    "model.add(Conv1D(activation='relu', input_shape=(step_size, nb_features), strides=2, filters=8, kernel_size=2))\n",
    "#model.add(LeakyReLU())\n",
    "model.add(Dropout(0.5))\n",
    "model.add(Conv1D(activation='relu', strides=2, filters=8, kernel_size=2))\n",
    "#model.add(LeakyReLU())\n",
    "model.add(Dropout(0.5))\n",
    "model.add(Conv1D(activation='relu', strides=2, filters=8, kernel_size=2))\n",
    "#model.add(LeakyReLU())\n",
    "model.add(Dropout(0.5))\n",
    "model.add(Conv1D( strides=2, filters=nb_features, kernel_size=2))\n",
    "'''\n",
    "\n",
    "model.compile(loss='mse', optimizer='adam')\n",
    "model.fit(training_datas, training_labels,verbose=1, batch_size=batch_size,validation_data=(validation_datas,validation_labels), epochs = epochs, callbacks=[CSVLogger(output_file_name+'.csv', append=True),ModelCheckpoint('weights/'+output_file_name+'-{epoch:02d}-{val_loss:.5f}.hdf5', monitor='val_loss', verbose=1,mode='min')])\n",
    "\n",
    "# Pick latest model weights\n",
    "import glob\n",
    "import os\n",
    "\n",
    "list_of_files = glob.glob('weights/*') # * means all if need specific format then *.csv\n",
    "latest_weights = max(list_of_files, key=os.path.getctime)\n",
    "print(latest_weights)"
   ]
  },
  {
   "cell_type": "code",
   "execution_count": 24,
   "metadata": {},
   "outputs": [
    {
     "name": "stdout",
     "output_type": "stream",
     "text": [
      "weights/bitcoin2015to2017_close_CNN_2_relu-200-0.00248.hdf5\n"
     ]
    }
   ],
   "source": [
    "import glob\n",
    "import os\n",
    "\n",
    "list_of_files = glob.glob('weights/*') # * means all if need specific format then *.csv\n",
    "latest_weights = max(list_of_files, key=os.path.getctime)\n",
    "print(latest_weights)"
   ]
  },
  {
   "cell_type": "code",
   "execution_count": 25,
   "metadata": {},
   "outputs": [
    {
     "name": "stderr",
     "output_type": "stream",
     "text": [
      "/Users/piyushsagarmishra/anaconda3/lib/python3.7/site-packages/ipykernel_launcher.py:32: H5pyDeprecationWarning: dataset.value has been deprecated. Use dataset[()] instead.\n",
      "/Users/piyushsagarmishra/anaconda3/lib/python3.7/site-packages/ipykernel_launcher.py:33: H5pyDeprecationWarning: dataset.value has been deprecated. Use dataset[()] instead.\n",
      "/Users/piyushsagarmishra/anaconda3/lib/python3.7/site-packages/ipykernel_launcher.py:34: H5pyDeprecationWarning: dataset.value has been deprecated. Use dataset[()] instead.\n",
      "/Users/piyushsagarmishra/anaconda3/lib/python3.7/site-packages/ipykernel_launcher.py:35: H5pyDeprecationWarning: dataset.value has been deprecated. Use dataset[()] instead.\n",
      "/Users/piyushsagarmishra/anaconda3/lib/python3.7/site-packages/ipykernel_launcher.py:36: H5pyDeprecationWarning: dataset.value has been deprecated. Use dataset[()] instead.\n",
      "/Users/piyushsagarmishra/anaconda3/lib/python3.7/site-packages/ipykernel_launcher.py:37: H5pyDeprecationWarning: dataset.value has been deprecated. Use dataset[()] instead.\n",
      "/Users/piyushsagarmishra/anaconda3/lib/python3.7/site-packages/ipykernel_launcher.py:38: H5pyDeprecationWarning: dataset.value has been deprecated. Use dataset[()] instead.\n"
     ]
    }
   ],
   "source": [
    "from keras import applications\n",
    "from keras.models import Sequential\n",
    "from keras.models import Model\n",
    "from keras.layers import Dropout, Flatten, Dense, Activation\n",
    "from keras.callbacks import CSVLogger\n",
    "import tensorflow as tf\n",
    "#from scipy.ndimage import imread\n",
    "#import scipy.imageio.imread\n",
    "#from scipy.misc.pilutil import imread\n",
    "import numpy as np\n",
    "import random\n",
    "from keras.layers import LSTM\n",
    "from keras.layers import Conv1D, MaxPooling1D, LeakyReLU\n",
    "from keras import backend as K\n",
    "import keras\n",
    "from keras.callbacks import CSVLogger, ModelCheckpoint\n",
    "#from keras.backend.tensorflow_backend import set_session\n",
    "from keras import optimizers\n",
    "import h5py\n",
    "from sklearn.preprocessing import MinMaxScaler\n",
    "import os\n",
    "import pandas as pd\n",
    "# import matplotlib\n",
    "\n",
    "import matplotlib.pyplot as plt\n",
    "\n",
    "os.environ['CUDA_DEVICE_ORDER'] = 'PCI_BUS_ID'\n",
    "os.environ['CUDA_VISIBLE_DEVICES'] = '0'\n",
    "os.environ['TF_CPP_MIN_LOG_LEVEL']='2'\n",
    "\n",
    "with h5py.File(''.join(['bitcoin2015to2017_close.h5']), 'r') as hf:\n",
    "    datas = hf['inputs'].value\n",
    "    labels = hf['outputs'].value\n",
    "    input_times = hf['input_times'].value\n",
    "    output_times = hf['output_times'].value\n",
    "    original_inputs = hf['original_inputs'].value\n",
    "    original_outputs = hf['original_outputs'].value\n",
    "    original_datas = hf['original_datas'].value\n",
    "    \n",
    "\n",
    "scaler=MinMaxScaler()\n",
    "#split training validation\n",
    "training_size = int(train_ratio* datas.shape[0])\n",
    "training_datas = datas[:training_size,:,:]\n",
    "training_labels = labels[:training_size,:,:]\n",
    "validation_datas = datas[training_size:,:,:]\n",
    "validation_labels = labels[training_size:,:,:]\n",
    "validation_original_outputs = original_outputs[training_size:,:,:]\n",
    "validation_original_inputs = original_inputs[training_size:,:,:]\n",
    "validation_input_times = input_times[training_size:,:,:]\n",
    "validation_output_times = output_times[training_size:,:,:]\n",
    "\n",
    "ground_true = np.append(validation_original_inputs,validation_original_outputs, axis=1)\n",
    "ground_true_times = np.append(validation_input_times,validation_output_times, axis=1)\n",
    "step_size = datas.shape[1]\n",
    "batch_size= 15\n",
    "nb_features = datas.shape[2]\n",
    "\n",
    "model = Sequential()\n",
    "\n",
    "# 2 layers\n",
    "model.add(Conv1D(activation='relu', input_shape=(step_size, nb_features), strides=3, filters=8, kernel_size=20))\n",
    "# model.add(LeakyReLU())\n",
    "model.add(Dropout(0.25))\n",
    "model.add(Conv1D( strides=4, filters=nb_features, kernel_size=16))\n",
    "model.load_weights('{0}'.format(latest_weights))\n",
    "model.compile(loss='mse', optimizer='adam')"
   ]
  },
  {
   "cell_type": "code",
   "execution_count": 26,
   "metadata": {},
   "outputs": [
    {
     "name": "stdout",
     "output_type": "stream",
     "text": [
      "(1, 10, 16)\n",
      "(160,)\n"
     ]
    }
   ],
   "source": [
    "predicted = model.predict(validation_datas)\n",
    "predicted_inverted = []\n",
    "\n",
    "for i in range(original_datas.shape[1]):\n",
    "    scaler.fit(original_datas[:,i].reshape(-1,1))\n",
    "    predicted_inverted.append(scaler.inverse_transform(predicted[:,:,i]))\n",
    "print (np.array(predicted_inverted).shape)\n",
    "#get only the close data\n",
    "ground_true = ground_true[:,:,0].reshape(-1)\n",
    "ground_true_times = ground_true_times.reshape(-1)\n",
    "ground_true_times = pd.to_datetime(ground_true_times, unit='s')\n",
    "# since we are appending in the first dimension\n",
    "predicted_inverted = np.array(predicted_inverted)[0,:,:].reshape(-1)\n",
    "print (np.array(predicted_inverted).shape)\n",
    "validation_output_times = pd.to_datetime(validation_output_times.reshape(-1), unit='s')"
   ]
  },
  {
   "cell_type": "code",
   "execution_count": 56,
   "metadata": {},
   "outputs": [],
   "source": [
    "def change_to_local(df, col_from = 'Timestamp', col_to = 'times',local_timezone = 'Singapore'):\n",
    "    '''convert a datetime time unaware field to local\n",
    "    '''\n",
    "    from datetime import timezone, datetime\n",
    "\n",
    "    # 3rd party modules\n",
    "    import pandas as pd\n",
    "    import pytz\n",
    "    \n",
    "    df[col_to] = pd.to_datetime(df[col_from], unit='s')\n",
    "    df[col_to] = df[col_to].dt.tz_localize(timezone.utc)\n",
    "\n",
    "    my_timezone = pytz.timezone(local_timezone)\n",
    "    df[col_to] = df[col_to].dt.tz_convert(my_timezone)\n",
    "    return df    "
   ]
  },
  {
   "cell_type": "code",
   "execution_count": 65,
   "metadata": {},
   "outputs": [],
   "source": [
    "ground_true_df = pd.DataFrame()\n",
    "ground_true_df['times'] = ground_true_times\n",
    "ground_true_df['value'] = ground_true\n",
    "\n",
    "prediction_df = pd.DataFrame()\n",
    "prediction_df['times'] = validation_output_times\n",
    "prediction_df['value'] = predicted_inverted\n",
    "\n",
    "\n",
    "# bring to local time\n",
    "ground_true_df = change_to_local(ground_true_df, 'times','times', 'Singapore')\n",
    "prediction_df= change_to_local(prediction_df, 'times','times', 'Singapore')\n",
    "\n",
    "# build singular dataset\n",
    "all_df = ground_true_df.merge(prediction_df, on = 'times', how = 'outer')\n",
    "all_df.columns = ['times', 'actual', 'predicted']\n",
    "\n",
    "#prediction_df = prediction_df.loc[(prediction_df[\"times\"].dt.year == 2017 )&(prediction_df[\"times\"].dt.month > 7 ),: ]\n",
    "#ground_true_df = ground_true_df.loc[(ground_true_df[\"times\"].dt.year == 2017 )&(ground_true_df[\"times\"].dt.month > 7 ),:]"
   ]
  },
  {
   "cell_type": "code",
   "execution_count": 68,
   "metadata": {},
   "outputs": [
    {
     "data": {
      "text/html": [
       "<div>\n",
       "<style scoped>\n",
       "    .dataframe tbody tr th:only-of-type {\n",
       "        vertical-align: middle;\n",
       "    }\n",
       "\n",
       "    .dataframe tbody tr th {\n",
       "        vertical-align: top;\n",
       "    }\n",
       "\n",
       "    .dataframe thead th {\n",
       "        text-align: right;\n",
       "    }\n",
       "</style>\n",
       "<table border=\"1\" class=\"dataframe\">\n",
       "  <thead>\n",
       "    <tr style=\"text-align: right;\">\n",
       "      <th></th>\n",
       "      <th>Close</th>\n",
       "      <th>Timestamp</th>\n",
       "      <th>High</th>\n",
       "      <th>Low</th>\n",
       "      <th>Open</th>\n",
       "      <th>times</th>\n",
       "    </tr>\n",
       "  </thead>\n",
       "  <tbody>\n",
       "    <tr>\n",
       "      <th>25916</th>\n",
       "      <td>1.330000</td>\n",
       "      <td>1618719300</td>\n",
       "      <td>1.330000</td>\n",
       "      <td>1.311910</td>\n",
       "      <td>1.311910</td>\n",
       "      <td>2021-04-18 12:15:00+08:00</td>\n",
       "    </tr>\n",
       "    <tr>\n",
       "      <th>25917</th>\n",
       "      <td>1.328139</td>\n",
       "      <td>1618719600</td>\n",
       "      <td>1.330000</td>\n",
       "      <td>1.320000</td>\n",
       "      <td>1.329535</td>\n",
       "      <td>2021-04-18 12:20:00+08:00</td>\n",
       "    </tr>\n",
       "    <tr>\n",
       "      <th>25918</th>\n",
       "      <td>1.320239</td>\n",
       "      <td>1618719900</td>\n",
       "      <td>1.342513</td>\n",
       "      <td>1.320239</td>\n",
       "      <td>1.329000</td>\n",
       "      <td>2021-04-18 12:25:00+08:00</td>\n",
       "    </tr>\n",
       "    <tr>\n",
       "      <th>25919</th>\n",
       "      <td>1.342822</td>\n",
       "      <td>1618720200</td>\n",
       "      <td>1.351000</td>\n",
       "      <td>1.319944</td>\n",
       "      <td>1.320239</td>\n",
       "      <td>2021-04-18 12:30:00+08:00</td>\n",
       "    </tr>\n",
       "    <tr>\n",
       "      <th>25920</th>\n",
       "      <td>1.324773</td>\n",
       "      <td>1618720500</td>\n",
       "      <td>1.346489</td>\n",
       "      <td>1.316784</td>\n",
       "      <td>1.346208</td>\n",
       "      <td>2021-04-18 12:35:00+08:00</td>\n",
       "    </tr>\n",
       "  </tbody>\n",
       "</table>\n",
       "</div>"
      ],
      "text/plain": [
       "          Close   Timestamp      High       Low      Open  \\\n",
       "25916  1.330000  1618719300  1.330000  1.311910  1.311910   \n",
       "25917  1.328139  1618719600  1.330000  1.320000  1.329535   \n",
       "25918  1.320239  1618719900  1.342513  1.320239  1.329000   \n",
       "25919  1.342822  1618720200  1.351000  1.319944  1.320239   \n",
       "25920  1.324773  1618720500  1.346489  1.316784  1.346208   \n",
       "\n",
       "                          times  \n",
       "25916 2021-04-18 12:15:00+08:00  \n",
       "25917 2021-04-18 12:20:00+08:00  \n",
       "25918 2021-04-18 12:25:00+08:00  \n",
       "25919 2021-04-18 12:30:00+08:00  \n",
       "25920 2021-04-18 12:35:00+08:00  "
      ]
     },
     "execution_count": 68,
     "metadata": {},
     "output_type": "execute_result"
    }
   ],
   "source": [
    "# check original loaded data\n",
    "container = change_to_local(container)\n",
    "container.tail()"
   ]
  },
  {
   "cell_type": "code",
   "execution_count": 69,
   "metadata": {},
   "outputs": [
    {
     "data": {
      "text/plain": [
       "<AxesSubplot:xlabel='times'>"
      ]
     },
     "execution_count": 69,
     "metadata": {},
     "output_type": "execute_result"
    },
    {
     "data": {
      "image/png": "[encoded data removed]",
      "text/plain": [
       "<Figure size 1440x360 with 1 Axes>"
      ]
     },
     "metadata": {
      "needs_background": "light"
     },
     "output_type": "display_data"
    }
   ],
   "source": [
    "# aggregate to date\n",
    "gt = ground_true_df.groupby(pd.to_datetime(ground_true_df.times).dt.date)[['value']].mean().reset_index()\n",
    "gt.columns = ['times', 'actual']\n",
    "pt = prediction_df.groupby(pd.to_datetime(prediction_df.times).dt.date)[['value']].mean().reset_index()\n",
    "pt.columns = ['times', 'predicted']\n",
    "allt = gt.merge(pt, on = 'times', how = 'outer')\n",
    "\n",
    "allt.set_index('times').plot(figsize=(20,5), grid=True, label = True)"
   ]
  },
  {
   "cell_type": "code",
   "execution_count": 70,
   "metadata": {},
   "outputs": [
    {
     "data": {
      "image/png": "[encoded data removed]",
      "text/plain": [
       "<Figure size 864x360 with 1 Axes>"
      ]
     },
     "metadata": {
      "needs_background": "light"
     },
     "output_type": "display_data"
    }
   ],
   "source": [
    "plt.figure(figsize=(12,5))\n",
    "plt.plot(ground_true_df.times,ground_true_df.value, label = 'Actual')\n",
    "plt.plot(prediction_df.times,prediction_df.value,'ro--', label='Predicted')\n",
    "plt.legend(loc='upper left')\n",
    "plt.show()"
   ]
  },
  {
   "cell_type": "code",
   "execution_count": null,
   "metadata": {},
   "outputs": [],
   "source": []
  },
  {
   "cell_type": "code",
   "execution_count": null,
   "metadata": {},
   "outputs": [],
   "source": []
  }
 ],
 "metadata": {
  "kernelspec": {
   "display_name": "Python 3",
   "language": "python",
   "name": "python3"
  },
  "language_info": {
   "codemirror_mode": {
    "name": "ipython",
    "version": 3
   },
   "file_extension": ".py",
   "mimetype": "text/x-python",
   "name": "python",
   "nbconvert_exporter": "python",
   "pygments_lexer": "ipython3",
   "version": "3.7.1"
  }
 },
 "nbformat": 4,
 "nbformat_minor": 2
}
