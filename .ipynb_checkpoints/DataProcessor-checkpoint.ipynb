{
 "cells": [
  {
   "cell_type": "code",
   "execution_count": 23,
   "metadata": {},
   "outputs": [],
   "source": [
    "import pandas as pd\n",
    "import numpy as np\n",
    "import h5py"
   ]
  },
  {
   "cell_type": "code",
   "execution_count": 24,
   "metadata": {},
   "outputs": [],
   "source": [
    "input_step_size = 50\n",
    "output_size = 30\n",
    "sliding_window = False\n",
    "file_name= 'bitcoin2012_2017_50_30_prediction.h5' \n",
    "input_file = 'data/4coins_17apr2021.csv'"
   ]
  },
  {
   "cell_type": "code",
   "execution_count": 25,
   "metadata": {
    "scrolled": true
   },
   "outputs": [
    {
     "data": {
      "text/html": [
       "<div>\n",
       "<style scoped>\n",
       "    .dataframe tbody tr th:only-of-type {\n",
       "        vertical-align: middle;\n",
       "    }\n",
       "\n",
       "    .dataframe tbody tr th {\n",
       "        vertical-align: top;\n",
       "    }\n",
       "\n",
       "    .dataframe thead th {\n",
       "        text-align: right;\n",
       "    }\n",
       "</style>\n",
       "<table border=\"1\" class=\"dataframe\">\n",
       "  <thead>\n",
       "    <tr style=\"text-align: right;\">\n",
       "      <th></th>\n",
       "      <th>close</th>\n",
       "      <th>date</th>\n",
       "      <th>high</th>\n",
       "      <th>low</th>\n",
       "      <th>open</th>\n",
       "      <th>quoteVolume</th>\n",
       "      <th>volume</th>\n",
       "      <th>weightedAverage</th>\n",
       "      <th>coin</th>\n",
       "      <th>Datetime</th>\n",
       "    </tr>\n",
       "  </thead>\n",
       "  <tbody>\n",
       "    <tr>\n",
       "      <th>0</th>\n",
       "      <td>35821.784255</td>\n",
       "      <td>1610860471</td>\n",
       "      <td>35821.784255</td>\n",
       "      <td>35821.784255</td>\n",
       "      <td>35821.784255</td>\n",
       "      <td>0.000000</td>\n",
       "      <td>0.000000</td>\n",
       "      <td>35821.784255</td>\n",
       "      <td>BTC</td>\n",
       "      <td>2021-01-17 05:14:31</td>\n",
       "    </tr>\n",
       "    <tr>\n",
       "      <th>1</th>\n",
       "      <td>35615.867299</td>\n",
       "      <td>1610860500</td>\n",
       "      <td>35850.677784</td>\n",
       "      <td>35603.712770</td>\n",
       "      <td>35850.677784</td>\n",
       "      <td>7.676967</td>\n",
       "      <td>274145.767388</td>\n",
       "      <td>35710.163862</td>\n",
       "      <td>BTC</td>\n",
       "      <td>2021-01-17 05:15:00</td>\n",
       "    </tr>\n",
       "    <tr>\n",
       "      <th>2</th>\n",
       "      <td>35654.641200</td>\n",
       "      <td>1610860800</td>\n",
       "      <td>35654.641200</td>\n",
       "      <td>35566.963038</td>\n",
       "      <td>35602.000000</td>\n",
       "      <td>4.449306</td>\n",
       "      <td>158411.448459</td>\n",
       "      <td>35603.631832</td>\n",
       "      <td>BTC</td>\n",
       "      <td>2021-01-17 05:20:00</td>\n",
       "    </tr>\n",
       "    <tr>\n",
       "      <th>3</th>\n",
       "      <td>35710.006821</td>\n",
       "      <td>1610861100</td>\n",
       "      <td>35734.813541</td>\n",
       "      <td>35656.000000</td>\n",
       "      <td>35669.218384</td>\n",
       "      <td>1.630496</td>\n",
       "      <td>58209.505121</td>\n",
       "      <td>35700.486527</td>\n",
       "      <td>BTC</td>\n",
       "      <td>2021-01-17 05:25:00</td>\n",
       "    </tr>\n",
       "    <tr>\n",
       "      <th>4</th>\n",
       "      <td>35639.780416</td>\n",
       "      <td>1610861400</td>\n",
       "      <td>35804.949624</td>\n",
       "      <td>35634.341902</td>\n",
       "      <td>35709.073190</td>\n",
       "      <td>1.621382</td>\n",
       "      <td>57908.128571</td>\n",
       "      <td>35715.286404</td>\n",
       "      <td>BTC</td>\n",
       "      <td>2021-01-17 05:30:00</td>\n",
       "    </tr>\n",
       "  </tbody>\n",
       "</table>\n",
       "</div>"
      ],
      "text/plain": [
       "          close        date          high           low          open  \\\n",
       "0  35821.784255  1610860471  35821.784255  35821.784255  35821.784255   \n",
       "1  35615.867299  1610860500  35850.677784  35603.712770  35850.677784   \n",
       "2  35654.641200  1610860800  35654.641200  35566.963038  35602.000000   \n",
       "3  35710.006821  1610861100  35734.813541  35656.000000  35669.218384   \n",
       "4  35639.780416  1610861400  35804.949624  35634.341902  35709.073190   \n",
       "\n",
       "   quoteVolume         volume  weightedAverage coin            Datetime  \n",
       "0     0.000000       0.000000     35821.784255  BTC 2021-01-17 05:14:31  \n",
       "1     7.676967  274145.767388     35710.163862  BTC 2021-01-17 05:15:00  \n",
       "2     4.449306  158411.448459     35603.631832  BTC 2021-01-17 05:20:00  \n",
       "3     1.630496   58209.505121     35700.486527  BTC 2021-01-17 05:25:00  \n",
       "4     1.621382   57908.128571     35715.286404  BTC 2021-01-17 05:30:00  "
      ]
     },
     "execution_count": 25,
     "metadata": {},
     "output_type": "execute_result"
    }
   ],
   "source": [
    "df = pd.read_csv(input_file).dropna()\n",
    "df['Datetime'] = pd.to_datetime(df['date'],unit='s')\n",
    "df.head()"
   ]
  },
  {
   "cell_type": "code",
   "execution_count": 26,
   "metadata": {},
   "outputs": [
    {
     "data": {
      "text/plain": [
       "BTC    25921\n",
       "Name: coin, dtype: int64"
      ]
     },
     "execution_count": 26,
     "metadata": {},
     "output_type": "execute_result"
    }
   ],
   "source": [
    "df.coin.value_counts()"
   ]
  },
  {
   "cell_type": "code",
   "execution_count": 27,
   "metadata": {},
   "outputs": [],
   "source": [
    "df = df.loc[df.coin == 'BTC']"
   ]
  },
  {
   "cell_type": "code",
   "execution_count": 28,
   "metadata": {},
   "outputs": [
    {
     "data": {
      "text/plain": [
       "(25921,)"
      ]
     },
     "execution_count": 28,
     "metadata": {},
     "output_type": "execute_result"
    }
   ],
   "source": [
    "prices= df.loc[:,'close'].values\n",
    "times = df.loc[:,'Datetime'].values\n",
    "prices.shape"
   ]
  },
  {
   "cell_type": "code",
   "execution_count": 29,
   "metadata": {},
   "outputs": [],
   "source": [
    "outputs = []\n",
    "inputs = []\n",
    "output_times = []\n",
    "input_times = []\n",
    "if sliding_window:\n",
    "    for i in range(len(prices)-input_step_size-output_size):\n",
    "        inputs.append(prices[i:i + input_step_size])\n",
    "        input_times.append(times[i:i + input_step_size])\n",
    "        outputs.append(prices[i + input_step_size: i + input_step_size+ output_size])\n",
    "        output_times.append(times[i + input_step_size: i + input_step_size+ output_size])\n",
    "else:\n",
    "    for i in range(0,len(prices)-input_step_size-output_size, input_step_size):\n",
    "        inputs.append(prices[i:i + input_step_size])\n",
    "        input_times.append(times[i:i + input_step_size])\n",
    "        outputs.append(prices[i + input_step_size: i + input_step_size+ output_size])\n",
    "        output_times.append(times[i + input_step_size: i + input_step_size+ output_size])\n",
    "inputs= np.array(inputs)\n",
    "outputs= np.array(outputs)\n",
    "output_times = np.array(output_times)\n",
    "input_times = np.array(input_times)"
   ]
  },
  {
   "cell_type": "code",
   "execution_count": 30,
   "metadata": {},
   "outputs": [
    {
     "data": {
      "text/plain": [
       "(517, 50)"
      ]
     },
     "execution_count": 30,
     "metadata": {},
     "output_type": "execute_result"
    }
   ],
   "source": [
    "inputs.shape"
   ]
  },
  {
   "cell_type": "code",
   "execution_count": 31,
   "metadata": {},
   "outputs": [],
   "source": [
    "with h5py.File(file_name, 'w') as f:\n",
    "    f.create_dataset(\"inputs\", data = inputs)\n",
    "    f.create_dataset('outputs', data = outputs)\n",
    "#     f.create_dataset(\"input_times\", data = input_times)\n",
    "#     f.create_dataset('output_times', data = output_times)"
   ]
  },
  {
   "cell_type": "code",
   "execution_count": 32,
   "metadata": {},
   "outputs": [],
   "source": [
    "np.save(file_name[:-3] + 'input_times',input_times)\n",
    "np.save(file_name[:-3] + 'output_times',output_times)"
   ]
  },
  {
   "cell_type": "code",
   "execution_count": 33,
   "metadata": {},
   "outputs": [
    {
     "data": {
      "text/plain": [
       "array(['2021-01-17T05:14:31.000000000', '2021-01-17T05:15:00.000000000',\n",
       "       '2021-01-17T05:20:00.000000000', ...,\n",
       "       '2021-04-17T05:00:00.000000000', '2021-04-17T05:05:00.000000000',\n",
       "       '2021-04-17T05:10:00.000000000'], dtype='datetime64[ns]')"
      ]
     },
     "execution_count": 33,
     "metadata": {},
     "output_type": "execute_result"
    }
   ],
   "source": [
    "times"
   ]
  },
  {
   "cell_type": "code",
   "execution_count": null,
   "metadata": {
    "collapsed": true
   },
   "outputs": [],
   "source": []
  },
  {
   "cell_type": "code",
   "execution_count": null,
   "metadata": {
    "collapsed": true
   },
   "outputs": [],
   "source": []
  },
  {
   "cell_type": "code",
   "execution_count": null,
   "metadata": {
    "collapsed": true
   },
   "outputs": [],
   "source": []
  },
  {
   "cell_type": "code",
   "execution_count": null,
   "metadata": {
    "collapsed": true
   },
   "outputs": [],
   "source": []
  },
  {
   "cell_type": "code",
   "execution_count": null,
   "metadata": {
    "collapsed": true
   },
   "outputs": [],
   "source": []
  }
 ],
 "metadata": {
  "kernelspec": {
   "display_name": "Python 3",
   "language": "python",
   "name": "python3"
  },
  "language_info": {
   "codemirror_mode": {
    "name": "ipython",
    "version": 3
   },
   "file_extension": ".py",
   "mimetype": "text/x-python",
   "name": "python",
   "nbconvert_exporter": "python",
   "pygments_lexer": "ipython3",
   "version": "3.7.3"
  }
 },
 "nbformat": 4,
 "nbformat_minor": 2
}
